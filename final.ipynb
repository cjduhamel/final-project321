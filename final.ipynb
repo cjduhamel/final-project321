{
 "cells": [
  {
   "cell_type": "code",
   "execution_count": 117,
   "metadata": {},
   "outputs": [
    {
     "data": {
      "text/html": [
       "<div>\n",
       "<style scoped>\n",
       "    .dataframe tbody tr th:only-of-type {\n",
       "        vertical-align: middle;\n",
       "    }\n",
       "\n",
       "    .dataframe tbody tr th {\n",
       "        vertical-align: top;\n",
       "    }\n",
       "\n",
       "    .dataframe thead th {\n",
       "        text-align: right;\n",
       "    }\n",
       "</style>\n",
       "<table border=\"1\" class=\"dataframe\">\n",
       "  <thead>\n",
       "    <tr style=\"text-align: right;\">\n",
       "      <th></th>\n",
       "      <th>Destination Port</th>\n",
       "      <th>Flow Duration</th>\n",
       "      <th>Total Fwd Packets</th>\n",
       "      <th>Total Backward Packets</th>\n",
       "      <th>Total Length of Fwd Packets</th>\n",
       "      <th>Total Length of Bwd Packets</th>\n",
       "      <th>Fwd Packet Length Max</th>\n",
       "      <th>Fwd Packet Length Min</th>\n",
       "      <th>Fwd Packet Length Mean</th>\n",
       "      <th>Fwd Packet Length Std</th>\n",
       "      <th>...</th>\n",
       "      <th>min_seg_size_forward</th>\n",
       "      <th>Active Mean</th>\n",
       "      <th>Active Std</th>\n",
       "      <th>Active Max</th>\n",
       "      <th>Active Min</th>\n",
       "      <th>Idle Mean</th>\n",
       "      <th>Idle Std</th>\n",
       "      <th>Idle Max</th>\n",
       "      <th>Idle Min</th>\n",
       "      <th>Label</th>\n",
       "    </tr>\n",
       "  </thead>\n",
       "  <tbody>\n",
       "    <tr>\n",
       "      <th>0</th>\n",
       "      <td>80</td>\n",
       "      <td>38308</td>\n",
       "      <td>1</td>\n",
       "      <td>1</td>\n",
       "      <td>6</td>\n",
       "      <td>6</td>\n",
       "      <td>6</td>\n",
       "      <td>6</td>\n",
       "      <td>6.000000</td>\n",
       "      <td>0.000000</td>\n",
       "      <td>...</td>\n",
       "      <td>20</td>\n",
       "      <td>0.0</td>\n",
       "      <td>0.0</td>\n",
       "      <td>0</td>\n",
       "      <td>0</td>\n",
       "      <td>0.0</td>\n",
       "      <td>0.0</td>\n",
       "      <td>0</td>\n",
       "      <td>0</td>\n",
       "      <td>BENIGN</td>\n",
       "    </tr>\n",
       "    <tr>\n",
       "      <th>1</th>\n",
       "      <td>389</td>\n",
       "      <td>479</td>\n",
       "      <td>11</td>\n",
       "      <td>5</td>\n",
       "      <td>172</td>\n",
       "      <td>326</td>\n",
       "      <td>79</td>\n",
       "      <td>0</td>\n",
       "      <td>15.636364</td>\n",
       "      <td>31.449238</td>\n",
       "      <td>...</td>\n",
       "      <td>32</td>\n",
       "      <td>0.0</td>\n",
       "      <td>0.0</td>\n",
       "      <td>0</td>\n",
       "      <td>0</td>\n",
       "      <td>0.0</td>\n",
       "      <td>0.0</td>\n",
       "      <td>0</td>\n",
       "      <td>0</td>\n",
       "      <td>BENIGN</td>\n",
       "    </tr>\n",
       "    <tr>\n",
       "      <th>2</th>\n",
       "      <td>88</td>\n",
       "      <td>1095</td>\n",
       "      <td>10</td>\n",
       "      <td>6</td>\n",
       "      <td>3150</td>\n",
       "      <td>3150</td>\n",
       "      <td>1575</td>\n",
       "      <td>0</td>\n",
       "      <td>315.000000</td>\n",
       "      <td>632.561635</td>\n",
       "      <td>...</td>\n",
       "      <td>32</td>\n",
       "      <td>0.0</td>\n",
       "      <td>0.0</td>\n",
       "      <td>0</td>\n",
       "      <td>0</td>\n",
       "      <td>0.0</td>\n",
       "      <td>0.0</td>\n",
       "      <td>0</td>\n",
       "      <td>0</td>\n",
       "      <td>BENIGN</td>\n",
       "    </tr>\n",
       "    <tr>\n",
       "      <th>3</th>\n",
       "      <td>389</td>\n",
       "      <td>15206</td>\n",
       "      <td>17</td>\n",
       "      <td>12</td>\n",
       "      <td>3452</td>\n",
       "      <td>6660</td>\n",
       "      <td>1313</td>\n",
       "      <td>0</td>\n",
       "      <td>203.058823</td>\n",
       "      <td>425.778474</td>\n",
       "      <td>...</td>\n",
       "      <td>32</td>\n",
       "      <td>0.0</td>\n",
       "      <td>0.0</td>\n",
       "      <td>0</td>\n",
       "      <td>0</td>\n",
       "      <td>0.0</td>\n",
       "      <td>0.0</td>\n",
       "      <td>0</td>\n",
       "      <td>0</td>\n",
       "      <td>BENIGN</td>\n",
       "    </tr>\n",
       "    <tr>\n",
       "      <th>4</th>\n",
       "      <td>88</td>\n",
       "      <td>1092</td>\n",
       "      <td>9</td>\n",
       "      <td>6</td>\n",
       "      <td>3150</td>\n",
       "      <td>3152</td>\n",
       "      <td>1575</td>\n",
       "      <td>0</td>\n",
       "      <td>350.000000</td>\n",
       "      <td>694.509719</td>\n",
       "      <td>...</td>\n",
       "      <td>32</td>\n",
       "      <td>0.0</td>\n",
       "      <td>0.0</td>\n",
       "      <td>0</td>\n",
       "      <td>0</td>\n",
       "      <td>0.0</td>\n",
       "      <td>0.0</td>\n",
       "      <td>0</td>\n",
       "      <td>0</td>\n",
       "      <td>BENIGN</td>\n",
       "    </tr>\n",
       "  </tbody>\n",
       "</table>\n",
       "<p>5 rows × 79 columns</p>\n",
       "</div>"
      ],
      "text/plain": [
       "    Destination Port   Flow Duration   Total Fwd Packets  \\\n",
       "0                 80           38308                   1   \n",
       "1                389             479                  11   \n",
       "2                 88            1095                  10   \n",
       "3                389           15206                  17   \n",
       "4                 88            1092                   9   \n",
       "\n",
       "    Total Backward Packets  Total Length of Fwd Packets  \\\n",
       "0                        1                            6   \n",
       "1                        5                          172   \n",
       "2                        6                         3150   \n",
       "3                       12                         3452   \n",
       "4                        6                         3150   \n",
       "\n",
       "    Total Length of Bwd Packets   Fwd Packet Length Max  \\\n",
       "0                             6                       6   \n",
       "1                           326                      79   \n",
       "2                          3150                    1575   \n",
       "3                          6660                    1313   \n",
       "4                          3152                    1575   \n",
       "\n",
       "    Fwd Packet Length Min   Fwd Packet Length Mean   Fwd Packet Length Std  \\\n",
       "0                       6                 6.000000                0.000000   \n",
       "1                       0                15.636364               31.449238   \n",
       "2                       0               315.000000              632.561635   \n",
       "3                       0               203.058823              425.778474   \n",
       "4                       0               350.000000              694.509719   \n",
       "\n",
       "   ...   min_seg_size_forward  Active Mean   Active Std   Active Max  \\\n",
       "0  ...                     20          0.0          0.0            0   \n",
       "1  ...                     32          0.0          0.0            0   \n",
       "2  ...                     32          0.0          0.0            0   \n",
       "3  ...                     32          0.0          0.0            0   \n",
       "4  ...                     32          0.0          0.0            0   \n",
       "\n",
       "    Active Min  Idle Mean   Idle Std   Idle Max   Idle Min   Label  \n",
       "0            0        0.0        0.0          0          0  BENIGN  \n",
       "1            0        0.0        0.0          0          0  BENIGN  \n",
       "2            0        0.0        0.0          0          0  BENIGN  \n",
       "3            0        0.0        0.0          0          0  BENIGN  \n",
       "4            0        0.0        0.0          0          0  BENIGN  \n",
       "\n",
       "[5 rows x 79 columns]"
      ]
     },
     "execution_count": 117,
     "metadata": {},
     "output_type": "execute_result"
    }
   ],
   "source": [
    "import pandas as pd\n",
    "import numpy as np\n",
    "import matplotlib.pyplot as plt\n",
    "import os\n",
    "import gdown\n",
    "\n",
    "file_id = \"1KF0yBrF2_FcdJ1XhFyUsjYAHJC7qMpVl\"\n",
    "output_file = \"data_DoS.csv\"\n",
    "\n",
    "if not os.path.exists(output_file):\n",
    "    gdown.download(f\"https://drive.google.com/uc?id={file_id}&confirm=t\", output_file, quiet=False)\n",
    "\n",
    "file_id = \"1_GXC-sVehXrvsLDHVHie6fdeIISlBV2z\"\n",
    "output_file = \"data_Web.csv\"\n",
    "\n",
    "if not os.path.exists(output_file):\n",
    "    gdown.download(f\"https://drive.google.com/uc?id={file_id}&confirm=t\", output_file, quiet=False)\n",
    "\n",
    "# Load the data\n",
    "data_DoS = pd.read_csv(\"data_DoS.csv\")\n",
    "data_Web = pd.read_csv(\"data_Web.csv\")\n",
    "\n",
    "#concatenate the data\n",
    "data = pd.concat([data_DoS, data_Web])\n",
    "\n",
    "# Display the first 5 rows of the data\n",
    "data.head()\n"
   ]
  },
  {
   "cell_type": "markdown",
   "metadata": {},
   "source": [
    "##### Exploratory Data Analysis"
   ]
  },
  {
   "cell_type": "code",
   "execution_count": 118,
   "metadata": {},
   "outputs": [
    {
     "name": "stdout",
     "output_type": "stream",
     "text": [
      "Features: Index([' Destination Port', ' Flow Duration', ' Total Fwd Packets',\n",
      "       ' Total Backward Packets', 'Total Length of Fwd Packets',\n",
      "       ' Total Length of Bwd Packets', ' Fwd Packet Length Max',\n",
      "       ' Fwd Packet Length Min', ' Fwd Packet Length Mean',\n",
      "       ' Fwd Packet Length Std', 'Bwd Packet Length Max',\n",
      "       ' Bwd Packet Length Min', ' Bwd Packet Length Mean',\n",
      "       ' Bwd Packet Length Std', 'Flow Bytes/s', ' Flow Packets/s',\n",
      "       ' Flow IAT Mean', ' Flow IAT Std', ' Flow IAT Max', ' Flow IAT Min',\n",
      "       'Fwd IAT Total', ' Fwd IAT Mean', ' Fwd IAT Std', ' Fwd IAT Max',\n",
      "       ' Fwd IAT Min', 'Bwd IAT Total', ' Bwd IAT Mean', ' Bwd IAT Std',\n",
      "       ' Bwd IAT Max', ' Bwd IAT Min', 'Fwd PSH Flags', ' Bwd PSH Flags',\n",
      "       ' Fwd URG Flags', ' Bwd URG Flags', ' Fwd Header Length',\n",
      "       ' Bwd Header Length', 'Fwd Packets/s', ' Bwd Packets/s',\n",
      "       ' Min Packet Length', ' Max Packet Length', ' Packet Length Mean',\n",
      "       ' Packet Length Std', ' Packet Length Variance', 'FIN Flag Count',\n",
      "       ' SYN Flag Count', ' RST Flag Count', ' PSH Flag Count',\n",
      "       ' ACK Flag Count', ' URG Flag Count', ' CWE Flag Count',\n",
      "       ' ECE Flag Count', ' Down/Up Ratio', ' Average Packet Size',\n",
      "       ' Avg Fwd Segment Size', ' Avg Bwd Segment Size',\n",
      "       ' Fwd Header Length.1', 'Fwd Avg Bytes/Bulk', ' Fwd Avg Packets/Bulk',\n",
      "       ' Fwd Avg Bulk Rate', ' Bwd Avg Bytes/Bulk', ' Bwd Avg Packets/Bulk',\n",
      "       'Bwd Avg Bulk Rate', 'Subflow Fwd Packets', ' Subflow Fwd Bytes',\n",
      "       ' Subflow Bwd Packets', ' Subflow Bwd Bytes', 'Init_Win_bytes_forward',\n",
      "       ' Init_Win_bytes_backward', ' act_data_pkt_fwd',\n",
      "       ' min_seg_size_forward', 'Active Mean', ' Active Std', ' Active Max',\n",
      "       ' Active Min', 'Idle Mean', ' Idle Std', ' Idle Max', ' Idle Min'],\n",
      "      dtype='object')\n",
      "Target:  Label\n",
      "Number of data points: 863069\n",
      "Number of features: 78\n"
     ]
    }
   ],
   "source": [
    "print(f\"Features: {data.columns[:-1]}\")\n",
    "print(f\"Target: {data.columns[-1]}\")\n",
    "\n",
    "print(f\"Number of data points: {len(data)}\")\n",
    "\n",
    "print(f\"Number of features: {len(data.columns) - 1}\")\n"
   ]
  },
  {
   "cell_type": "code",
   "execution_count": 119,
   "metadata": {},
   "outputs": [
    {
     "name": "stdout",
     "output_type": "stream",
     "text": [
      " Label\n",
      "BENIGN                        607734\n",
      "DoS Hulk                      230124\n",
      "DoS GoldenEye                  10293\n",
      "DoS slowloris                   5796\n",
      "DoS Slowhttptest                5499\n",
      "Web Attack � Brute Force        1507\n",
      "Web Attack � XSS                 652\n",
      "Web Attack � Sql Injection        21\n",
      "Heartbleed                        11\n",
      "Name: count, dtype: int64\n"
     ]
    }
   ],
   "source": [
    "#handle NaN values\n",
    "data = data.replace([np.inf, -np.inf], np.nan)\n",
    "data = data.dropna()\n",
    "\n",
    "counts = data[data.columns[-1]].value_counts()\n",
    "print(counts)"
   ]
  },
  {
   "cell_type": "code",
   "execution_count": 120,
   "metadata": {},
   "outputs": [
    {
     "name": "stdout",
     "output_type": "stream",
     "text": [
      " Label\n",
      "BENIGN                        607734\n",
      "DoS Hulk                      230124\n",
      "DoS GoldenEye                  10293\n",
      "DoS slowloris                   5796\n",
      "DoS Slowhttptest                5499\n",
      "Web Attack � Brute Force        1507\n",
      "Web Attack � XSS                 652\n",
      "Web Attack � Sql Injection        21\n",
      "Heartbleed                        11\n",
      "Name: count, dtype: int64\n"
     ]
    },
    {
     "data": {
      "image/png": "[encoded data removed]",
      "text/plain": [
       "<Figure size 640x480 with 1 Axes>"
      ]
     },
     "metadata": {},
     "output_type": "display_data"
    }
   ],
   "source": [
    "# Check for class imbalances\n",
    "# Display the distribution of the target variable\n",
    "counts = data[data.columns[-1]].value_counts()\n",
    "print(counts)\n",
    "counts.plot(kind='bar', color=['skyblue', 'orange'])\n",
    "plt.xlabel('Target')\n",
    "plt.ylabel('Count')\n",
    "plt.title('Distribution of the target variable')\n",
    "plt.show()"
   ]
  },
  {
   "cell_type": "markdown",
   "metadata": {},
   "source": [
    "We want to focus specifially on DoS attacks, so we will filter out the Heartbleed, one because it is not a DoS attack and two because it is only present 11 times.\n",
    "\n",
    "In addition, we will also combine the different types of DoS attacks into one category, as DoS Hulk (HTTP-Unbearable-Load-King) is the most common and greatly outnumber the other classes of DoS attacks present in the dataset.\n",
    "\n",
    "To attempt to account for some of the class imbalance, we will combine the different types of Web Attacks as well."
   ]
  },
  {
   "cell_type": "code",
   "execution_count": 121,
   "metadata": {},
   "outputs": [
    {
     "name": "stdout",
     "output_type": "stream",
     "text": [
      " Label\n",
      "BENIGN        607734\n",
      "DoS           607734\n",
      "Web Attack    607734\n",
      "Name: count, dtype: int64\n"
     ]
    },
    {
     "data": {
      "image/png": "[encoded data removed]",
      "text/plain": [
       "<Figure size 640x480 with 1 Axes>"
      ]
     },
     "metadata": {},
     "output_type": "display_data"
    }
   ],
   "source": [
    "#handle class imbalance\n",
    "#remove rows with class \"Heartbleed\"\n",
    "data = data[data[data.columns[-1]] != \"Heartbleed\"]\n",
    "\n",
    "#combine all remaining DoS classes into one class\n",
    "data[data.columns[-1]] = data[data.columns[-1]].replace([\"DoS Hulk\", \"DoS GoldenEye\", \"DoS slowloris\", \"DoS Slowhttptest\"], \"DoS\")\n",
    "data[data.columns[-1]] = data[data.columns[-1]].replace([\"Web Attack � Brute Force\", \"Web Attack � XSS\", \"Web Attack � Sql Injection\"], \"Web Attack\")\n",
    "\n",
    "# Run SMOTE to upsample Web Attack class\n",
    "from imblearn.over_sampling import SMOTE\n",
    "\n",
    "# Separate the features and target variable\n",
    "X = data[data.columns[:-1]]\n",
    "y = data[data.columns[-1]]\n",
    "\n",
    "# Apply SMOTE\n",
    "smote = SMOTE(sampling_strategy='not majority')\n",
    "X, y = smote.fit_resample(X, y)\n",
    "\n",
    "# Display the distribution of the target variable after SMOTE\n",
    "counts = y.value_counts()\n",
    "print(counts)\n",
    "\n",
    "# Display the distribution of the target variable\n",
    "counts.plot(kind='bar', color=['skyblue', 'orange'])\n",
    "plt.xlabel('Target')\n",
    "plt.ylabel('Count')\n",
    "plt.title('Distribution of the target variable')\n",
    "plt.show()"
   ]
  },
  {
   "cell_type": "code",
   "execution_count": 122,
   "metadata": {},
   "outputs": [
    {
     "name": "stderr",
     "output_type": "stream",
     "text": [
      "/opt/anaconda3/envs/CSC487/lib/python3.12/site-packages/sklearn/feature_selection/_univariate_selection.py:111: UserWarning: Features [31 32 33 49 56 57 58 59 60 61] are constant.\n",
      "  warnings.warn(\"Features %s are constant.\" % constant_features_idx, UserWarning)\n",
      "/opt/anaconda3/envs/CSC487/lib/python3.12/site-packages/sklearn/feature_selection/_univariate_selection.py:112: RuntimeWarning: invalid value encountered in divide\n",
      "  f = msb / msw\n"
     ]
    },
    {
     "name": "stdout",
     "output_type": "stream",
     "text": [
      "Index(['Bwd Packet Length Max', ' Bwd Packet Length Mean',\n",
      "       ' Bwd Packet Length Std', ' Packet Length Std', ' PSH Flag Count',\n",
      "       ' Avg Bwd Segment Size', 'Init_Win_bytes_forward',\n",
      "       ' Init_Win_bytes_backward', 'Idle Mean', ' Idle Max'],\n",
      "      dtype='object')\n"
     ]
    }
   ],
   "source": [
    "# Run ANOVA F-test to select the top k features\n",
    "from sklearn.feature_selection import SelectKBest, f_classif\n",
    "from sklearn.feature_selection import chi2\n",
    "\n",
    "# Select the top 10 features\n",
    "selector = SelectKBest(f_classif, k=10)\n",
    "X_new = selector.fit_transform(X, y)\n",
    "\n",
    "# Get the selected feature indices\n",
    "selected_features = selector.get_support(indices=True)\n",
    "\n",
    "# Get the selected feature names\n",
    "X.columns[selected_features]\n",
    "\n",
    "# Display the selected features\n",
    "selected_features = X.columns[selected_features]\n",
    "print(selected_features)\n",
    "\n"
   ]
  },
  {
   "cell_type": "markdown",
   "metadata": {},
   "source": [
    "We can see based on the selected features that Packet Length is responsible for a majority of the variance, which makes sense as the size of the packet is a key feature in determining a given attack."
   ]
  },
  {
   "cell_type": "code",
   "execution_count": 129,
   "metadata": {},
   "outputs": [
    {
     "name": "stdout",
     "output_type": "stream",
     "text": [
      "{dtype('O'), dtype('float64'), dtype('int64')}\n",
      "[8.18287354e-01 8.47422724e-02 4.11282440e-02 3.14142222e-02\n",
      " 1.32878713e-02 4.58660855e-03 2.80452855e-03 1.25358572e-03\n",
      " 5.79901663e-04 5.37266937e-04 4.83634107e-04 3.29074191e-04\n",
      " 1.91208861e-04 1.13130095e-04 9.79646304e-05 5.07453167e-05\n",
      " 4.45293086e-05 2.05203679e-05 1.24792952e-05 1.21467063e-05\n",
      " 1.02730045e-05 7.57406857e-06 1.99659468e-06 1.36350848e-06\n",
      " 7.79479987e-07 5.62133464e-07 6.64344228e-08 6.50119764e-08\n",
      " 1.16279491e-08 9.53932352e-09 4.60325385e-09 2.93969410e-09\n",
      " 1.84263657e-09 6.06937426e-10 4.87580490e-11 4.66188418e-11\n",
      " 1.89744042e-11 1.27981760e-11 6.12862263e-12 9.83546711e-13\n",
      " 5.45823640e-13 3.13897199e-13 2.43723161e-13 1.36884880e-13\n",
      " 1.10470552e-13 7.94311924e-14 4.55351494e-14 2.20161802e-14\n",
      " 9.93049267e-15 5.94938507e-15 2.31513185e-15 1.68490071e-15\n",
      " 6.82443659e-16 3.69769977e-17 9.11768199e-18 8.02622773e-18\n",
      " 3.98512990e-18 2.71985064e-18 2.14713917e-18 2.02749177e-18\n",
      " 6.19290448e-19 1.15322361e-19 2.49558822e-20 2.19101672e-23\n",
      " 2.26232473e-26 1.17611886e-26 4.73808897e-27 1.10123442e-27\n",
      " 0.00000000e+00 0.00000000e+00 0.00000000e+00 0.00000000e+00\n",
      " 0.00000000e+00 0.00000000e+00 0.00000000e+00 0.00000000e+00\n",
      " 0.00000000e+00 0.00000000e+00]\n"
     ]
    },
    {
     "data": {
      "image/png": "[encoded data removed]",
      "text/plain": [
       "<Figure size 640x480 with 1 Axes>"
      ]
     },
     "metadata": {},
     "output_type": "display_data"
    },
    {
     "data": {
      "image/png": "[encoded data removed]",
      "text/plain": [
       "<Figure size 640x480 with 1 Axes>"
      ]
     },
     "metadata": {},
     "output_type": "display_data"
    }
   ],
   "source": [
    "from sklearn.decomposition import PCA\n",
    "\n",
    "#check data types of each column\n",
    "types = []\n",
    "for column in data.columns:\n",
    "    types.append(data[column].dtype)\n",
    "\n",
    "print(set(types))\n",
    "\n",
    "\n",
    "# Analyze the variance explained by each principal component\n",
    "pca = PCA()\n",
    "pca.fit(X)\n",
    "\n",
    "# Plot the variance explained by each principal component\n",
    "\n",
    "print(pca.explained_variance_ratio_)\n",
    "plt.plot(range(1, len(X.columns) + 1), np.cumsum(pca.explained_variance_ratio_))\n",
    "plt.xlabel('Number of Principal Components')\n",
    "plt.ylabel('Variance Explained')\n",
    "plt.title('Variance Explained by Principal Components')\n",
    "plt.show()\n",
    "\n",
    "#plot the top 20 features\n",
    "import seaborn\n",
    "seaborn.barplot(x=range(1, 21), y=pca.explained_variance_ratio_[:20])\n",
    "plt.xlabel('Variance Explained')\n",
    "plt.ylabel('Principal Component')\n",
    "plt.title('Variance Explained by Top 20 Principal Components')\n",
    "plt.show()\n"
   ]
  },
  {
   "cell_type": "code",
   "execution_count": 135,
   "metadata": {},
   "outputs": [
    {
     "name": "stdout",
     "output_type": "stream",
     "text": [
      "Number of features to retain 99% variance: 5\n"
     ]
    },
    {
     "data": {
      "text/html": [
       "<div>\n",
       "<style scoped>\n",
       "    .dataframe tbody tr th:only-of-type {\n",
       "        vertical-align: middle;\n",
       "    }\n",
       "\n",
       "    .dataframe tbody tr th {\n",
       "        vertical-align: top;\n",
       "    }\n",
       "\n",
       "    .dataframe thead th {\n",
       "        text-align: right;\n",
       "    }\n",
       "</style>\n",
       "<table border=\"1\" class=\"dataframe\">\n",
       "  <thead>\n",
       "    <tr style=\"text-align: right;\">\n",
       "      <th></th>\n",
       "      <th>0</th>\n",
       "      <th>1</th>\n",
       "      <th>2</th>\n",
       "      <th>3</th>\n",
       "      <th>4</th>\n",
       "      <th>Label</th>\n",
       "    </tr>\n",
       "  </thead>\n",
       "  <tbody>\n",
       "    <tr>\n",
       "      <th>0</th>\n",
       "      <td>-5.968589e+07</td>\n",
       "      <td>-1.494681e+06</td>\n",
       "      <td>-1.107273e+06</td>\n",
       "      <td>-4.337393e+06</td>\n",
       "      <td>-851518.342435</td>\n",
       "      <td>BENIGN</td>\n",
       "    </tr>\n",
       "    <tr>\n",
       "      <th>1</th>\n",
       "      <td>-5.972039e+07</td>\n",
       "      <td>-1.494519e+06</td>\n",
       "      <td>-6.795969e+04</td>\n",
       "      <td>-4.317015e+06</td>\n",
       "      <td>-862296.133641</td>\n",
       "      <td>BENIGN</td>\n",
       "    </tr>\n",
       "    <tr>\n",
       "      <th>2</th>\n",
       "      <td>-5.974076e+07</td>\n",
       "      <td>-1.509057e+06</td>\n",
       "      <td>4.643513e+06</td>\n",
       "      <td>-4.165138e+06</td>\n",
       "      <td>-860795.962371</td>\n",
       "      <td>BENIGN</td>\n",
       "    </tr>\n",
       "    <tr>\n",
       "      <th>3</th>\n",
       "      <td>-5.968675e+07</td>\n",
       "      <td>-1.479711e+06</td>\n",
       "      <td>-4.419784e+05</td>\n",
       "      <td>-4.327760e+06</td>\n",
       "      <td>-874544.003864</td>\n",
       "      <td>BENIGN</td>\n",
       "    </tr>\n",
       "    <tr>\n",
       "      <th>4</th>\n",
       "      <td>-5.974035e+07</td>\n",
       "      <td>-1.509428e+06</td>\n",
       "      <td>4.661188e+06</td>\n",
       "      <td>-4.164849e+06</td>\n",
       "      <td>-861700.026428</td>\n",
       "      <td>BENIGN</td>\n",
       "    </tr>\n",
       "  </tbody>\n",
       "</table>\n",
       "</div>"
      ],
      "text/plain": [
       "              0             1             2             3              4  \\\n",
       "0 -5.968589e+07 -1.494681e+06 -1.107273e+06 -4.337393e+06 -851518.342435   \n",
       "1 -5.972039e+07 -1.494519e+06 -6.795969e+04 -4.317015e+06 -862296.133641   \n",
       "2 -5.974076e+07 -1.509057e+06  4.643513e+06 -4.165138e+06 -860795.962371   \n",
       "3 -5.968675e+07 -1.479711e+06 -4.419784e+05 -4.327760e+06 -874544.003864   \n",
       "4 -5.974035e+07 -1.509428e+06  4.661188e+06 -4.164849e+06 -861700.026428   \n",
       "\n",
       "    Label  \n",
       "0  BENIGN  \n",
       "1  BENIGN  \n",
       "2  BENIGN  \n",
       "3  BENIGN  \n",
       "4  BENIGN  "
      ]
     },
     "execution_count": 135,
     "metadata": {},
     "output_type": "execute_result"
    }
   ],
   "source": [
    "# Determine Number of Feautures to Keep to ensure 99 percent of variance is explained\n",
    "cumulative_variance = np.cumsum(pca.explained_variance_ratio_)\n",
    "n_over_99 = len(cumulative_variance[cumulative_variance < .99])\n",
    "\n",
    "print(f\"Number of features to retain 99% variance: {n_over_99}\")\n",
    "\n",
    "# Perform PCA with the number of features determined above\n",
    "pca = PCA(n_components=n_over_99)\n",
    "pca.fit(X)\n",
    "transformed_data = pca.transform(X)\n",
    "\n",
    "# Convert the transformed data into a DataFrame with column names\n",
    "transformed_data = pd.DataFrame(transformed_data)\n",
    "\n",
    "\n",
    "\n",
    "# Add the target column to the transformed data\n",
    "transformed_data['Label'] = y.values\n",
    "\n",
    "# Display the first 5 rows of the transformed data\n",
    "transformed_data.head()"
   ]
  },
  {
   "cell_type": "markdown",
   "metadata": {},
   "source": [
    "By doing PCA, we have created 5 new features that are linear combinations of the original features."
   ]
  },
  {
   "cell_type": "markdown",
   "metadata": {},
   "source": [
    "#### Data Preprocessing and Preparation\n",
    "We need to create two different datasets, one for training and the other for testing. Since we have a very large dataset, we can afford to keep 10% of the data for validation, 10% for testing, and 80% for training.\n",
    "\n",
    "We will also standardize the data, to center the data around its mean and scale it base on the standard deviation.\n"
   ]
  },
  {
   "cell_type": "code",
   "execution_count": 136,
   "metadata": {},
   "outputs": [
    {
     "name": "stdout",
     "output_type": "stream",
     "text": [
      "Number of data points in the training set: 1823202\n",
      "Number of data points in the testing set: 182321\n",
      "Number of data points in the validation set: 182320\n"
     ]
    }
   ],
   "source": [
    "from sklearn.model_selection import train_test_split\n",
    "\n",
    "# Split the data into training and testing sets\n",
    "X_train, X_test, y_train, y_test = train_test_split(transformed_data[transformed_data.columns[:-1]], transformed_data['Label'], test_size=0.2, random_state=0)\n",
    "\n",
    "# Split the test data into testing and validation sets\n",
    "validation_X = X_test.sample(frac=0.5, random_state=0)\n",
    "testing_X = X_test.drop(validation_X.index)\n",
    "\n",
    "validation_y = y_test.loc[validation_X.index]\n",
    "testing_y = y_test.loc[testing_X.index]\n",
    "\n",
    "# Display the number of data points in the training set\n",
    "print(f\"Number of data points in the training set: {len(transformed_data)}\")\n",
    "print(f\"Number of data points in the testing set: {len(testing_X)}\")\n",
    "print(f\"Number of data points in the validation set: {len(validation_X)}\")\n",
    "\n",
    "\n"
   ]
  },
  {
   "cell_type": "markdown",
   "metadata": {},
   "source": [
    "#### Model Selection\n",
    "\n",
    "We will use two different types of models, Neural Networks and Random Forests, to predict the type of attack. We will use the F1 score as the metric to evaluate the models.\n",
    "\n",
    "#### Random Forest Classifier\n",
    "\n",
    "We will start with the Random Forest Classifier, a collection of Decision Trees that will each output a prediction and the model will take the majority vote as the final prediction."
   ]
  },
  {
   "cell_type": "code",
   "execution_count": 137,
   "metadata": {},
   "outputs": [],
   "source": [
    "from sklearn.ensemble import RandomForestClassifier\n",
    "from sklearn.metrics import accuracy_score, precision_score, recall_score, f1_score\n",
    "\n",
    "# Train a Random Forest classifier\n",
    "rfc = RandomForestClassifier(random_state=0)\n",
    "rfc.fit(X_train, y_train)\n",
    "\n",
    "# Make predictions on the testing set\n",
    "y_pred = rfc.predict(testing_X)\n",
    "\n",
    "# Make predictions on the training set (to check for overfitting)\n",
    "train_y_pred = rfc.predict(X_train)\n"
   ]
  },
  {
   "cell_type": "code",
   "execution_count": 138,
   "metadata": {},
   "outputs": [
    {
     "name": "stdout",
     "output_type": "stream",
     "text": [
      "Training Accuracy: 0.9988920586797535\n",
      "\n",
      "Testing Accuracy: 0.9959631638703167\n",
      "Testing Precision: 0.9959641096709468\n",
      "Testing Recall: 0.9959631638703167\n",
      "Testing F1 Score: 0.9959625864265491\n"
     ]
    }
   ],
   "source": [
    "# Calculate the train accuracy of the classifier\n",
    "train_accuracy = accuracy_score(y_train, train_y_pred)\n",
    "print(f\"Training Accuracy: {train_accuracy}\\n\")\n",
    "\n",
    "# Calculate the test accuracy of the classifier\n",
    "accuracy = accuracy_score(testing_y, y_pred)\n",
    "print(f\"Testing Accuracy: {accuracy}\")\n",
    "print(f\"Testing Precision: {precision_score(testing_y, y_pred, average='weighted')}\")\n",
    "print(f\"Testing Recall: {recall_score(testing_y, y_pred, average='weighted')}\")\n",
    "print(f\"Testing F1 Score: {f1_score(testing_y, y_pred, average='weighted')}\")"
   ]
  },
  {
   "cell_type": "markdown",
   "metadata": {},
   "source": [
    "This accuracy is abnormally high, so we can try to improve the model by using a Neural Network.\n",
    "\n",
    "It is possible that the characteristics of these kind of attacks are very apparent in the data, so we could test the model on a diferent dataset of other kinds of attacks to see if the model works on those."
   ]
  },
  {
   "cell_type": "markdown",
   "metadata": {},
   "source": [
    "#### Neural Network\n",
    "To train the Neural Network, we will start by creating a TensorDataset object for both the train and test sets. We will use the DataLoader object to load the data in batches."
   ]
  },
  {
   "cell_type": "code",
   "execution_count": null,
   "metadata": {},
   "outputs": [],
   "source": []
  }
 ],
 "metadata": {
  "kernelspec": {
   "display_name": "CSC487",
   "language": "python",
   "name": "python3"
  },
  "language_info": {
   "codemirror_mode": {
    "name": "ipython",
    "version": 3
   },
   "file_extension": ".py",
   "mimetype": "text/x-python",
   "name": "python",
   "nbconvert_exporter": "python",
   "pygments_lexer": "ipython3",
   "version": "3.12.8"
  }
 },
 "nbformat": 4,
 "nbformat_minor": 2
}
