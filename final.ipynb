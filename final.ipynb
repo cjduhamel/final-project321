{
 "cells": [
  {
   "cell_type": "code",
   "execution_count": null,
   "metadata": {},
   "outputs": [],
   "source": [
    "import pandas as pd\n",
    "import numpy as np\n",
    "import matplotlib.pyplot as plt\n",
    "\n",
    "data_path = ''\n",
    "\n",
    "# Load the data\n"
   ]
  }
 ],
 "metadata": {
  "kernelspec": {
   "display_name": "CSC487",
   "language": "python",
   "name": "python3"
  },
  "language_info": {
   "name": "python",
   "version": "3.12.8"
  }
 },
 "nbformat": 4,
 "nbformat_minor": 2
}
