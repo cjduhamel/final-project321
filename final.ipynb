{
 "cells": [
  {
   "cell_type": "code",
   "execution_count": 1,
   "metadata": {},
   "outputs": [
    {
     "data": {
      "text/html": [
       "<div>\n",
       "<style scoped>\n",
       "    .dataframe tbody tr th:only-of-type {\n",
       "        vertical-align: middle;\n",
       "    }\n",
       "\n",
       "    .dataframe tbody tr th {\n",
       "        vertical-align: top;\n",
       "    }\n",
       "\n",
       "    .dataframe thead th {\n",
       "        text-align: right;\n",
       "    }\n",
       "</style>\n",
       "<table border=\"1\" class=\"dataframe\">\n",
       "  <thead>\n",
       "    <tr style=\"text-align: right;\">\n",
       "      <th></th>\n",
       "      <th>Destination Port</th>\n",
       "      <th>Flow Duration</th>\n",
       "      <th>Total Fwd Packets</th>\n",
       "      <th>Total Backward Packets</th>\n",
       "      <th>Total Length of Fwd Packets</th>\n",
       "      <th>Total Length of Bwd Packets</th>\n",
       "      <th>Fwd Packet Length Max</th>\n",
       "      <th>Fwd Packet Length Min</th>\n",
       "      <th>Fwd Packet Length Mean</th>\n",
       "      <th>Fwd Packet Length Std</th>\n",
       "      <th>...</th>\n",
       "      <th>min_seg_size_forward</th>\n",
       "      <th>Active Mean</th>\n",
       "      <th>Active Std</th>\n",
       "      <th>Active Max</th>\n",
       "      <th>Active Min</th>\n",
       "      <th>Idle Mean</th>\n",
       "      <th>Idle Std</th>\n",
       "      <th>Idle Max</th>\n",
       "      <th>Idle Min</th>\n",
       "      <th>Label</th>\n",
       "    </tr>\n",
       "  </thead>\n",
       "  <tbody>\n",
       "    <tr>\n",
       "      <th>0</th>\n",
       "      <td>80</td>\n",
       "      <td>38308</td>\n",
       "      <td>1</td>\n",
       "      <td>1</td>\n",
       "      <td>6</td>\n",
       "      <td>6</td>\n",
       "      <td>6</td>\n",
       "      <td>6</td>\n",
       "      <td>6.000000</td>\n",
       "      <td>0.000000</td>\n",
       "      <td>...</td>\n",
       "      <td>20</td>\n",
       "      <td>0.0</td>\n",
       "      <td>0.0</td>\n",
       "      <td>0</td>\n",
       "      <td>0</td>\n",
       "      <td>0.0</td>\n",
       "      <td>0.0</td>\n",
       "      <td>0</td>\n",
       "      <td>0</td>\n",
       "      <td>BENIGN</td>\n",
       "    </tr>\n",
       "    <tr>\n",
       "      <th>1</th>\n",
       "      <td>389</td>\n",
       "      <td>479</td>\n",
       "      <td>11</td>\n",
       "      <td>5</td>\n",
       "      <td>172</td>\n",
       "      <td>326</td>\n",
       "      <td>79</td>\n",
       "      <td>0</td>\n",
       "      <td>15.636364</td>\n",
       "      <td>31.449238</td>\n",
       "      <td>...</td>\n",
       "      <td>32</td>\n",
       "      <td>0.0</td>\n",
       "      <td>0.0</td>\n",
       "      <td>0</td>\n",
       "      <td>0</td>\n",
       "      <td>0.0</td>\n",
       "      <td>0.0</td>\n",
       "      <td>0</td>\n",
       "      <td>0</td>\n",
       "      <td>BENIGN</td>\n",
       "    </tr>\n",
       "    <tr>\n",
       "      <th>2</th>\n",
       "      <td>88</td>\n",
       "      <td>1095</td>\n",
       "      <td>10</td>\n",
       "      <td>6</td>\n",
       "      <td>3150</td>\n",
       "      <td>3150</td>\n",
       "      <td>1575</td>\n",
       "      <td>0</td>\n",
       "      <td>315.000000</td>\n",
       "      <td>632.561635</td>\n",
       "      <td>...</td>\n",
       "      <td>32</td>\n",
       "      <td>0.0</td>\n",
       "      <td>0.0</td>\n",
       "      <td>0</td>\n",
       "      <td>0</td>\n",
       "      <td>0.0</td>\n",
       "      <td>0.0</td>\n",
       "      <td>0</td>\n",
       "      <td>0</td>\n",
       "      <td>BENIGN</td>\n",
       "    </tr>\n",
       "    <tr>\n",
       "      <th>3</th>\n",
       "      <td>389</td>\n",
       "      <td>15206</td>\n",
       "      <td>17</td>\n",
       "      <td>12</td>\n",
       "      <td>3452</td>\n",
       "      <td>6660</td>\n",
       "      <td>1313</td>\n",
       "      <td>0</td>\n",
       "      <td>203.058823</td>\n",
       "      <td>425.778474</td>\n",
       "      <td>...</td>\n",
       "      <td>32</td>\n",
       "      <td>0.0</td>\n",
       "      <td>0.0</td>\n",
       "      <td>0</td>\n",
       "      <td>0</td>\n",
       "      <td>0.0</td>\n",
       "      <td>0.0</td>\n",
       "      <td>0</td>\n",
       "      <td>0</td>\n",
       "      <td>BENIGN</td>\n",
       "    </tr>\n",
       "    <tr>\n",
       "      <th>4</th>\n",
       "      <td>88</td>\n",
       "      <td>1092</td>\n",
       "      <td>9</td>\n",
       "      <td>6</td>\n",
       "      <td>3150</td>\n",
       "      <td>3152</td>\n",
       "      <td>1575</td>\n",
       "      <td>0</td>\n",
       "      <td>350.000000</td>\n",
       "      <td>694.509719</td>\n",
       "      <td>...</td>\n",
       "      <td>32</td>\n",
       "      <td>0.0</td>\n",
       "      <td>0.0</td>\n",
       "      <td>0</td>\n",
       "      <td>0</td>\n",
       "      <td>0.0</td>\n",
       "      <td>0.0</td>\n",
       "      <td>0</td>\n",
       "      <td>0</td>\n",
       "      <td>BENIGN</td>\n",
       "    </tr>\n",
       "  </tbody>\n",
       "</table>\n",
       "<p>5 rows × 79 columns</p>\n",
       "</div>"
      ],
      "text/plain": [
       "    Destination Port   Flow Duration   Total Fwd Packets  \\\n",
       "0                 80           38308                   1   \n",
       "1                389             479                  11   \n",
       "2                 88            1095                  10   \n",
       "3                389           15206                  17   \n",
       "4                 88            1092                   9   \n",
       "\n",
       "    Total Backward Packets  Total Length of Fwd Packets  \\\n",
       "0                        1                            6   \n",
       "1                        5                          172   \n",
       "2                        6                         3150   \n",
       "3                       12                         3452   \n",
       "4                        6                         3150   \n",
       "\n",
       "    Total Length of Bwd Packets   Fwd Packet Length Max  \\\n",
       "0                             6                       6   \n",
       "1                           326                      79   \n",
       "2                          3150                    1575   \n",
       "3                          6660                    1313   \n",
       "4                          3152                    1575   \n",
       "\n",
       "    Fwd Packet Length Min   Fwd Packet Length Mean   Fwd Packet Length Std  \\\n",
       "0                       6                 6.000000                0.000000   \n",
       "1                       0                15.636364               31.449238   \n",
       "2                       0               315.000000              632.561635   \n",
       "3                       0               203.058823              425.778474   \n",
       "4                       0               350.000000              694.509719   \n",
       "\n",
       "   ...   min_seg_size_forward  Active Mean   Active Std   Active Max  \\\n",
       "0  ...                     20          0.0          0.0            0   \n",
       "1  ...                     32          0.0          0.0            0   \n",
       "2  ...                     32          0.0          0.0            0   \n",
       "3  ...                     32          0.0          0.0            0   \n",
       "4  ...                     32          0.0          0.0            0   \n",
       "\n",
       "    Active Min  Idle Mean   Idle Std   Idle Max   Idle Min   Label  \n",
       "0            0        0.0        0.0          0          0  BENIGN  \n",
       "1            0        0.0        0.0          0          0  BENIGN  \n",
       "2            0        0.0        0.0          0          0  BENIGN  \n",
       "3            0        0.0        0.0          0          0  BENIGN  \n",
       "4            0        0.0        0.0          0          0  BENIGN  \n",
       "\n",
       "[5 rows x 79 columns]"
      ]
     },
     "execution_count": 1,
     "metadata": {},
     "output_type": "execute_result"
    }
   ],
   "source": [
    "import pandas as pd\n",
    "import numpy as np\n",
    "import matplotlib.pyplot as plt\n",
    "import os\n",
    "import gdown\n",
    "import pickle\n",
    "\n",
    "\n",
    "file_id = \"1KF0yBrF2_FcdJ1XhFyUsjYAHJC7qMpVl\"\n",
    "output_file = \"data_DoS.csv\"\n",
    "\n",
    "if not os.path.exists(output_file):\n",
    "    gdown.download(f\"https://drive.google.com/uc?id={file_id}&confirm=t\", output_file, quiet=False)\n",
    "\n",
    "file_id = \"1_GXC-sVehXrvsLDHVHie6fdeIISlBV2z\"\n",
    "output_file = \"data_Web.csv\"\n",
    "\n",
    "if not os.path.exists(output_file):\n",
    "    gdown.download(f\"https://drive.google.com/uc?id={file_id}&confirm=t\", output_file, quiet=False)\n",
    "\n",
    "# Load the data\n",
    "data_DoS = pd.read_csv(\"data_DoS.csv\")\n",
    "data_Web = pd.read_csv(\"data_Web.csv\")\n",
    "\n",
    "#concatenate the data\n",
    "data = pd.concat([data_DoS, data_Web])\n",
    "\n",
    "# Display the first 5 rows of the data\n",
    "data.head()\n"
   ]
  },
  {
   "cell_type": "markdown",
   "metadata": {},
   "source": [
    "##### Exploratory Data Analysis"
   ]
  },
  {
   "cell_type": "code",
   "execution_count": 2,
   "metadata": {},
   "outputs": [
    {
     "name": "stdout",
     "output_type": "stream",
     "text": [
      "Features: Index([' Destination Port', ' Flow Duration', ' Total Fwd Packets',\n",
      "       ' Total Backward Packets', 'Total Length of Fwd Packets',\n",
      "       ' Total Length of Bwd Packets', ' Fwd Packet Length Max',\n",
      "       ' Fwd Packet Length Min', ' Fwd Packet Length Mean',\n",
      "       ' Fwd Packet Length Std', 'Bwd Packet Length Max',\n",
      "       ' Bwd Packet Length Min', ' Bwd Packet Length Mean',\n",
      "       ' Bwd Packet Length Std', 'Flow Bytes/s', ' Flow Packets/s',\n",
      "       ' Flow IAT Mean', ' Flow IAT Std', ' Flow IAT Max', ' Flow IAT Min',\n",
      "       'Fwd IAT Total', ' Fwd IAT Mean', ' Fwd IAT Std', ' Fwd IAT Max',\n",
      "       ' Fwd IAT Min', 'Bwd IAT Total', ' Bwd IAT Mean', ' Bwd IAT Std',\n",
      "       ' Bwd IAT Max', ' Bwd IAT Min', 'Fwd PSH Flags', ' Bwd PSH Flags',\n",
      "       ' Fwd URG Flags', ' Bwd URG Flags', ' Fwd Header Length',\n",
      "       ' Bwd Header Length', 'Fwd Packets/s', ' Bwd Packets/s',\n",
      "       ' Min Packet Length', ' Max Packet Length', ' Packet Length Mean',\n",
      "       ' Packet Length Std', ' Packet Length Variance', 'FIN Flag Count',\n",
      "       ' SYN Flag Count', ' RST Flag Count', ' PSH Flag Count',\n",
      "       ' ACK Flag Count', ' URG Flag Count', ' CWE Flag Count',\n",
      "       ' ECE Flag Count', ' Down/Up Ratio', ' Average Packet Size',\n",
      "       ' Avg Fwd Segment Size', ' Avg Bwd Segment Size',\n",
      "       ' Fwd Header Length.1', 'Fwd Avg Bytes/Bulk', ' Fwd Avg Packets/Bulk',\n",
      "       ' Fwd Avg Bulk Rate', ' Bwd Avg Bytes/Bulk', ' Bwd Avg Packets/Bulk',\n",
      "       'Bwd Avg Bulk Rate', 'Subflow Fwd Packets', ' Subflow Fwd Bytes',\n",
      "       ' Subflow Bwd Packets', ' Subflow Bwd Bytes', 'Init_Win_bytes_forward',\n",
      "       ' Init_Win_bytes_backward', ' act_data_pkt_fwd',\n",
      "       ' min_seg_size_forward', 'Active Mean', ' Active Std', ' Active Max',\n",
      "       ' Active Min', 'Idle Mean', ' Idle Std', ' Idle Max', ' Idle Min'],\n",
      "      dtype='object')\n",
      "Target:  Label\n",
      "Number of data points: 863069\n",
      "Number of features: 78\n"
     ]
    }
   ],
   "source": [
    "print(f\"Features: {data.columns[:-1]}\")\n",
    "print(f\"Target: {data.columns[-1]}\")\n",
    "\n",
    "print(f\"Number of data points: {len(data)}\")\n",
    "\n",
    "print(f\"Number of features: {len(data.columns) - 1}\")\n"
   ]
  },
  {
   "cell_type": "code",
   "execution_count": 3,
   "metadata": {},
   "outputs": [
    {
     "name": "stdout",
     "output_type": "stream",
     "text": [
      " Label\n",
      "BENIGN                        607734\n",
      "DoS Hulk                      230124\n",
      "DoS GoldenEye                  10293\n",
      "DoS slowloris                   5796\n",
      "DoS Slowhttptest                5499\n",
      "Web Attack � Brute Force        1507\n",
      "Web Attack � XSS                 652\n",
      "Web Attack � Sql Injection        21\n",
      "Heartbleed                        11\n",
      "Name: count, dtype: int64\n"
     ]
    }
   ],
   "source": [
    "#handle NaN values\n",
    "data = data.replace([np.inf, -np.inf], np.nan)\n",
    "data = data.dropna()\n",
    "\n",
    "counts = data[data.columns[-1]].value_counts()\n",
    "print(counts)"
   ]
  },
  {
   "cell_type": "code",
   "execution_count": 4,
   "metadata": {},
   "outputs": [
    {
     "name": "stdout",
     "output_type": "stream",
     "text": [
      " Label\n",
      "BENIGN                        607734\n",
      "DoS Hulk                      230124\n",
      "DoS GoldenEye                  10293\n",
      "DoS slowloris                   5796\n",
      "DoS Slowhttptest                5499\n",
      "Web Attack � Brute Force        1507\n",
      "Web Attack � XSS                 652\n",
      "Web Attack � Sql Injection        21\n",
      "Heartbleed                        11\n",
      "Name: count, dtype: int64\n"
     ]
    },
    {
     "data": {
      "image/png": "[encoded data removed]",
      "text/plain": [
       "<Figure size 640x480 with 1 Axes>"
      ]
     },
     "metadata": {},
     "output_type": "display_data"
    }
   ],
   "source": [
    "# Check for class imbalances\n",
    "# Display the distribution of the target variable\n",
    "counts = data[data.columns[-1]].value_counts()\n",
    "print(counts)\n",
    "counts.plot(kind='bar', color=['skyblue', 'orange'])\n",
    "plt.xlabel('Target')\n",
    "plt.ylabel('Count')\n",
    "plt.title('Distribution of the target variable')\n",
    "plt.show()"
   ]
  },
  {
   "cell_type": "markdown",
   "metadata": {},
   "source": [
    "We want to focus specifially on DoS attacks, so we will filter out the Heartbleed, one because it is not a DoS attack and two because it is only present 11 times.\n",
    "\n",
    "In addition, we will also combine the different types of DoS attacks into one category, as DoS Hulk (HTTP-Unbearable-Load-King) is the most common and greatly outnumber the other classes of DoS attacks present in the dataset.\n",
    "\n",
    "To attempt to account for some of the class imbalance, we will combine the different types of Web Attacks as well."
   ]
  },
  {
   "cell_type": "code",
   "execution_count": 5,
   "metadata": {},
   "outputs": [
    {
     "name": "stdout",
     "output_type": "stream",
     "text": [
      " Label\n",
      "BENIGN        607734\n",
      "DoS           607734\n",
      "Web Attack    607734\n",
      "Name: count, dtype: int64\n"
     ]
    },
    {
     "data": {
      "image/png": "[encoded data removed]",
      "text/plain": [
       "<Figure size 640x480 with 1 Axes>"
      ]
     },
     "metadata": {},
     "output_type": "display_data"
    }
   ],
   "source": [
    "#handle class imbalance\n",
    "#remove rows with class \"Heartbleed\"\n",
    "data = data[data[data.columns[-1]] != \"Heartbleed\"]\n",
    "\n",
    "#combine all remaining DoS classes into one class\n",
    "data[data.columns[-1]] = data[data.columns[-1]].replace([\"DoS Hulk\", \"DoS GoldenEye\", \"DoS slowloris\", \"DoS Slowhttptest\"], \"DoS\")\n",
    "data[data.columns[-1]] = data[data.columns[-1]].replace([\"Web Attack � Brute Force\", \"Web Attack � XSS\", \"Web Attack � Sql Injection\"], \"Web Attack\")\n",
    "\n",
    "# Run SMOTE to upsample Web Attack class\n",
    "from imblearn.over_sampling import SMOTE\n",
    "\n",
    "# Separate the features and target variable\n",
    "X = data[data.columns[:-1]]\n",
    "y = data[data.columns[-1]]\n",
    "\n",
    "# Apply SMOTE\n",
    "smote = SMOTE(sampling_strategy='not majority')\n",
    "X, y = smote.fit_resample(X, y)\n",
    "\n",
    "# Display the distribution of the target variable after SMOTE\n",
    "counts = y.value_counts()\n",
    "print(counts)\n",
    "\n",
    "# Display the distribution of the target variable\n",
    "counts.plot(kind='bar', color=['skyblue', 'orange'])\n",
    "plt.xlabel('Target')\n",
    "plt.ylabel('Count')\n",
    "plt.title('Distribution of the target variable')\n",
    "plt.show()"
   ]
  },
  {
   "cell_type": "code",
   "execution_count": 6,
   "metadata": {},
   "outputs": [
    {
     "name": "stderr",
     "output_type": "stream",
     "text": [
      "c:\\Users\\speed\\anaconda3\\envs\\pytorch-gpu2\\lib\\site-packages\\sklearn\\feature_selection\\_univariate_selection.py:112: UserWarning: Features [31 32 33 49 56 57 58 59 60 61] are constant.\n",
      "  warnings.warn(\"Features %s are constant.\" % constant_features_idx, UserWarning)\n",
      "c:\\Users\\speed\\anaconda3\\envs\\pytorch-gpu2\\lib\\site-packages\\sklearn\\feature_selection\\_univariate_selection.py:113: RuntimeWarning: invalid value encountered in divide\n",
      "  f = msb / msw\n"
     ]
    },
    {
     "name": "stdout",
     "output_type": "stream",
     "text": [
      "Index(['Bwd Packet Length Max', ' Bwd Packet Length Mean',\n",
      "       ' Bwd Packet Length Std', ' Packet Length Std', ' PSH Flag Count',\n",
      "       ' Avg Bwd Segment Size', 'Init_Win_bytes_forward',\n",
      "       ' Init_Win_bytes_backward', 'Idle Mean', ' Idle Max'],\n",
      "      dtype='object')\n"
     ]
    }
   ],
   "source": [
    "# Run ANOVA F-test to select the top k features\n",
    "from sklearn.feature_selection import SelectKBest, f_classif\n",
    "from sklearn.feature_selection import chi2\n",
    "\n",
    "# Select the top 10 features\n",
    "selector = SelectKBest(f_classif, k=10)\n",
    "X_new = selector.fit_transform(X, y)\n",
    "\n",
    "# Get the selected feature indices\n",
    "selected_features = selector.get_support(indices=True)\n",
    "\n",
    "# Get the selected feature names\n",
    "X.columns[selected_features]\n",
    "\n",
    "# Display the selected features\n",
    "selected_features = X.columns[selected_features]\n",
    "print(selected_features)\n",
    "\n"
   ]
  },
  {
   "cell_type": "markdown",
   "metadata": {},
   "source": [
    "We can see based on the selected features that Packet Length is responsible for a majority of the variance, which makes sense as the size of the packet is a key feature in determining a given attack."
   ]
  },
  {
   "cell_type": "code",
   "execution_count": 7,
   "metadata": {},
   "outputs": [
    {
     "name": "stdout",
     "output_type": "stream",
     "text": [
      "{dtype('O'), dtype('int64'), dtype('float64')}\n",
      "[8.19788200e-01 8.49176075e-02 3.92243774e-02 3.14611140e-02\n",
      " 1.34373827e-02 4.59146369e-03 2.81577437e-03 1.25933335e-03\n",
      " 5.82380455e-04 5.40908052e-04 4.84794217e-04 3.30252130e-04\n",
      " 1.92574873e-04 1.12691822e-04 9.73889608e-05 5.05968699e-05\n",
      " 4.49667175e-05 2.06368170e-05 1.25280220e-05 1.22288747e-05\n",
      " 1.03293722e-05 7.59058345e-06 2.00164477e-06 1.36686814e-06\n",
      " 7.86033323e-07 5.61644105e-07 6.62620163e-08 6.49253658e-08\n",
      " 1.16670587e-08 9.55722690e-09 4.57429144e-09 2.94523056e-09\n",
      " 1.84684087e-09 6.08379043e-10 4.88742838e-11 4.67776737e-11\n",
      " 1.90005639e-11 1.28318204e-11 6.16150248e-12 9.84275724e-13\n",
      " 5.54807039e-13 3.14383124e-13 2.46442137e-13 1.38412286e-13\n",
      " 1.11145525e-13 7.95794502e-14 4.59049841e-14 2.20690413e-14\n",
      " 1.00261618e-14 5.97449183e-15 2.30909437e-15 1.68019528e-15\n",
      " 6.87791568e-16 3.99906556e-17 1.67217771e-17 9.18266355e-18\n",
      " 8.22929501e-18 4.66155137e-18 2.57479563e-18 2.04036659e-18\n",
      " 1.72556423e-18 6.19669480e-19 4.74862305e-19 2.50099088e-20\n",
      " 2.19686522e-23 1.34933559e-24 1.32046606e-26 7.41103136e-27\n",
      " 3.86929938e-27 2.01536560e-27 0.00000000e+00 0.00000000e+00\n",
      " 0.00000000e+00 0.00000000e+00 0.00000000e+00 0.00000000e+00\n",
      " 0.00000000e+00 0.00000000e+00]\n"
     ]
    },
    {
     "data": {
      "image/png": "[encoded data removed]",
      "text/plain": [
       "<Figure size 640x480 with 1 Axes>"
      ]
     },
     "metadata": {},
     "output_type": "display_data"
    },
    {
     "data": {
      "image/png": "[encoded data removed]",
      "text/plain": [
       "<Figure size 640x480 with 1 Axes>"
      ]
     },
     "metadata": {},
     "output_type": "display_data"
    }
   ],
   "source": [
    "from sklearn.decomposition import PCA\n",
    "\n",
    "#check data types of each column\n",
    "types = []\n",
    "for column in data.columns:\n",
    "    types.append(data[column].dtype)\n",
    "\n",
    "print(set(types))\n",
    "\n",
    "\n",
    "# Analyze the variance explained by each principal component\n",
    "pca = PCA()\n",
    "pca.fit(X)\n",
    "\n",
    "# Plot the variance explained by each principal component\n",
    "\n",
    "print(pca.explained_variance_ratio_)\n",
    "plt.plot(range(1, len(X.columns) + 1), np.cumsum(pca.explained_variance_ratio_))\n",
    "plt.xlabel('Number of Principal Components')\n",
    "plt.ylabel('Variance Explained')\n",
    "plt.title('Variance Explained by Principal Components')\n",
    "plt.show()\n",
    "\n",
    "#plot the top 20 features\n",
    "import seaborn\n",
    "seaborn.barplot(x=range(1, 21), y=pca.explained_variance_ratio_[:20])\n",
    "plt.xlabel('Variance Explained')\n",
    "plt.ylabel('Principal Component')\n",
    "plt.title('Variance Explained by Top 20 Principal Components')\n",
    "plt.show()\n"
   ]
  },
  {
   "cell_type": "code",
   "execution_count": 8,
   "metadata": {},
   "outputs": [
    {
     "name": "stdout",
     "output_type": "stream",
     "text": [
      "Number of features to retain 99% variance: 5\n"
     ]
    },
    {
     "data": {
      "text/html": [
       "<div>\n",
       "<style scoped>\n",
       "    .dataframe tbody tr th:only-of-type {\n",
       "        vertical-align: middle;\n",
       "    }\n",
       "\n",
       "    .dataframe tbody tr th {\n",
       "        vertical-align: top;\n",
       "    }\n",
       "\n",
       "    .dataframe thead th {\n",
       "        text-align: right;\n",
       "    }\n",
       "</style>\n",
       "<table border=\"1\" class=\"dataframe\">\n",
       "  <thead>\n",
       "    <tr style=\"text-align: right;\">\n",
       "      <th></th>\n",
       "      <th>0</th>\n",
       "      <th>1</th>\n",
       "      <th>2</th>\n",
       "      <th>3</th>\n",
       "      <th>4</th>\n",
       "      <th>Label</th>\n",
       "    </tr>\n",
       "  </thead>\n",
       "  <tbody>\n",
       "    <tr>\n",
       "      <th>0</th>\n",
       "      <td>-5.963704e+07</td>\n",
       "      <td>-1.487636e+06</td>\n",
       "      <td>-1.065679e+06</td>\n",
       "      <td>-4.336922e+06</td>\n",
       "      <td>-854921.068344</td>\n",
       "      <td>BENIGN</td>\n",
       "    </tr>\n",
       "    <tr>\n",
       "      <th>1</th>\n",
       "      <td>-5.967151e+07</td>\n",
       "      <td>-1.487352e+06</td>\n",
       "      <td>-2.655634e+04</td>\n",
       "      <td>-4.308066e+06</td>\n",
       "      <td>-865449.528673</td>\n",
       "      <td>BENIGN</td>\n",
       "    </tr>\n",
       "    <tr>\n",
       "      <th>2</th>\n",
       "      <td>-5.969172e+07</td>\n",
       "      <td>-1.501312e+06</td>\n",
       "      <td>4.683529e+06</td>\n",
       "      <td>-4.117788e+06</td>\n",
       "      <td>-863022.076024</td>\n",
       "      <td>BENIGN</td>\n",
       "    </tr>\n",
       "    <tr>\n",
       "      <th>3</th>\n",
       "      <td>-5.963788e+07</td>\n",
       "      <td>-1.472626e+06</td>\n",
       "      <td>-4.004649e+05</td>\n",
       "      <td>-4.321812e+06</td>\n",
       "      <td>-877760.278077</td>\n",
       "      <td>BENIGN</td>\n",
       "    </tr>\n",
       "    <tr>\n",
       "      <th>4</th>\n",
       "      <td>-5.969131e+07</td>\n",
       "      <td>-1.501683e+06</td>\n",
       "      <td>4.701203e+06</td>\n",
       "      <td>-4.117351e+06</td>\n",
       "      <td>-863920.530371</td>\n",
       "      <td>BENIGN</td>\n",
       "    </tr>\n",
       "  </tbody>\n",
       "</table>\n",
       "</div>"
      ],
      "text/plain": [
       "              0             1             2             3              4  \\\n",
       "0 -5.963704e+07 -1.487636e+06 -1.065679e+06 -4.336922e+06 -854921.068344   \n",
       "1 -5.967151e+07 -1.487352e+06 -2.655634e+04 -4.308066e+06 -865449.528673   \n",
       "2 -5.969172e+07 -1.501312e+06  4.683529e+06 -4.117788e+06 -863022.076024   \n",
       "3 -5.963788e+07 -1.472626e+06 -4.004649e+05 -4.321812e+06 -877760.278077   \n",
       "4 -5.969131e+07 -1.501683e+06  4.701203e+06 -4.117351e+06 -863920.530371   \n",
       "\n",
       "    Label  \n",
       "0  BENIGN  \n",
       "1  BENIGN  \n",
       "2  BENIGN  \n",
       "3  BENIGN  \n",
       "4  BENIGN  "
      ]
     },
     "execution_count": 8,
     "metadata": {},
     "output_type": "execute_result"
    }
   ],
   "source": [
    "# Determine Number of Feautures to Keep to ensure 99 percent of variance is explained\n",
    "cumulative_variance = np.cumsum(pca.explained_variance_ratio_)\n",
    "n_over_99 = len(cumulative_variance[cumulative_variance < .99])\n",
    "\n",
    "print(f\"Number of features to retain 99% variance: {n_over_99}\")\n",
    "\n",
    "# Perform PCA with the number of features determined above\n",
    "pca = PCA(n_components=n_over_99)\n",
    "pca.fit(X)\n",
    "transformed_data = pca.transform(X)\n",
    "\n",
    "# Convert the transformed data into a DataFrame with column names\n",
    "transformed_data = pd.DataFrame(transformed_data)\n",
    "\n",
    "\n",
    "\n",
    "# Add the target column to the transformed data\n",
    "transformed_data['Label'] = y.values\n",
    "\n",
    "# Display the first 5 rows of the transformed data\n",
    "transformed_data.head()"
   ]
  },
  {
   "cell_type": "markdown",
   "metadata": {},
   "source": [
    "By doing PCA, we have created 5 new features that are linear combinations of the original features."
   ]
  },
  {
   "cell_type": "markdown",
   "metadata": {},
   "source": [
    "#### Data Preprocessing and Preparation\n",
    "We need to create two different datasets, one for training and the other for testing. Since we have a very large dataset, we can afford to keep 10% of the data for validation, 10% for testing, and 80% for training.\n",
    "\n",
    "We will also standardize the data, to center the data around its mean and scale it base on the standard deviation.\n"
   ]
  },
  {
   "cell_type": "code",
   "execution_count": null,
   "metadata": {},
   "outputs": [
    {
     "name": "stdout",
     "output_type": "stream",
     "text": [
      "Loading transformed data from csv file...\n"
     ]
    },
    {
     "data": {
      "text/html": [
       "<div>\n",
       "<style scoped>\n",
       "    .dataframe tbody tr th:only-of-type {\n",
       "        vertical-align: middle;\n",
       "    }\n",
       "\n",
       "    .dataframe tbody tr th {\n",
       "        vertical-align: top;\n",
       "    }\n",
       "\n",
       "    .dataframe thead th {\n",
       "        text-align: right;\n",
       "    }\n",
       "</style>\n",
       "<table border=\"1\" class=\"dataframe\">\n",
       "  <thead>\n",
       "    <tr style=\"text-align: right;\">\n",
       "      <th></th>\n",
       "      <th>0</th>\n",
       "      <th>1</th>\n",
       "      <th>2</th>\n",
       "      <th>3</th>\n",
       "      <th>4</th>\n",
       "      <th>Label</th>\n",
       "    </tr>\n",
       "  </thead>\n",
       "  <tbody>\n",
       "    <tr>\n",
       "      <th>0</th>\n",
       "      <td>-0.589819</td>\n",
       "      <td>-0.046262</td>\n",
       "      <td>-0.047402</td>\n",
       "      <td>-0.219198</td>\n",
       "      <td>-0.066335</td>\n",
       "      <td>0</td>\n",
       "    </tr>\n",
       "    <tr>\n",
       "      <th>1</th>\n",
       "      <td>-0.590159</td>\n",
       "      <td>-0.046253</td>\n",
       "      <td>-0.000258</td>\n",
       "      <td>-0.217681</td>\n",
       "      <td>-0.067175</td>\n",
       "      <td>0</td>\n",
       "    </tr>\n",
       "    <tr>\n",
       "      <th>2</th>\n",
       "      <td>-0.590356</td>\n",
       "      <td>-0.046679</td>\n",
       "      <td>0.213428</td>\n",
       "      <td>-0.207797</td>\n",
       "      <td>-0.066997</td>\n",
       "      <td>0</td>\n",
       "    </tr>\n",
       "    <tr>\n",
       "      <th>3</th>\n",
       "      <td>-0.589827</td>\n",
       "      <td>-0.045799</td>\n",
       "      <td>-0.017222</td>\n",
       "      <td>-0.218402</td>\n",
       "      <td>-0.068131</td>\n",
       "      <td>0</td>\n",
       "    </tr>\n",
       "    <tr>\n",
       "      <th>4</th>\n",
       "      <td>-0.590352</td>\n",
       "      <td>-0.046690</td>\n",
       "      <td>0.214230</td>\n",
       "      <td>-0.207775</td>\n",
       "      <td>-0.067067</td>\n",
       "      <td>0</td>\n",
       "    </tr>\n",
       "  </tbody>\n",
       "</table>\n",
       "</div>"
      ],
      "text/plain": [
       "          0         1         2         3         4  Label\n",
       "0 -0.589819 -0.046262 -0.047402 -0.219198 -0.066335      0\n",
       "1 -0.590159 -0.046253 -0.000258 -0.217681 -0.067175      0\n",
       "2 -0.590356 -0.046679  0.213428 -0.207797 -0.066997      0\n",
       "3 -0.589827 -0.045799 -0.017222 -0.218402 -0.068131      0\n",
       "4 -0.590352 -0.046690  0.214230 -0.207775 -0.067067      0"
      ]
     },
     "execution_count": 9,
     "metadata": {},
     "output_type": "execute_result"
    }
   ],
   "source": [
    "#convert output labels to numerical values\n",
    "from sklearn.preprocessing import LabelEncoder\n",
    "from sklearn.preprocessing import StandardScaler\n",
    "\n",
    "use_new_data = False\n",
    "if use_new_data or not os.path.exists(\"transformed_data.csv\"):\n",
    "    print(\"Transforming data...\")\n",
    "    label_encoder = LabelEncoder()\n",
    "    transformed_data['Label'] = label_encoder.fit_transform(transformed_data['Label'])\n",
    "\n",
    "    #standardize the data\n",
    "    scaler = StandardScaler()\n",
    "    transformed_data[transformed_data.columns[:-1]] = scaler.fit_transform(transformed_data[transformed_data.columns[:-1]])\n",
    "\n",
    "    #save the transformed data to a csv file\n",
    "    output_file = \"transformed_data.csv\"\n",
    "    if os.path.exists(output_file):\n",
    "        os.remove(output_file)\n",
    "    transformed_data.to_csv(output_file, index=False)\n",
    "else:\n",
    "    #load the transformed data from a csv file\n",
    "    print(\"Loading transformed data from csv file...\")\n",
    "    transformed_data = pd.read_csv(\"transformed_data.csv\")\n",
    "\n",
    "\n",
    "transformed_data.head()"
   ]
  },
  {
   "cell_type": "code",
   "execution_count": 10,
   "metadata": {},
   "outputs": [
    {
     "name": "stdout",
     "output_type": "stream",
     "text": [
      "Number of data points in the training set: 1823202\n",
      "Number of data points in the testing set: 182321\n",
      "Number of data points in the validation set: 182320\n"
     ]
    }
   ],
   "source": [
    "\n",
    "from sklearn.model_selection import train_test_split\n",
    "\n",
    "# Split the data into training and testing sets\n",
    "X_train, X_test, y_train, y_test = train_test_split(transformed_data[transformed_data.columns[:-1]], transformed_data['Label'], test_size=0.2, random_state=0)\n",
    "\n",
    "# Split the test data into testing and validation sets\n",
    "validation_X = X_test.sample(frac=0.5, random_state=0)\n",
    "testing_X = X_test.drop(validation_X.index)\n",
    "\n",
    "validation_y = y_test.loc[validation_X.index]\n",
    "testing_y = y_test.loc[testing_X.index]\n",
    "\n",
    "# Display the number of data points in the training set\n",
    "print(f\"Number of data points in the training set: {len(transformed_data)}\")\n",
    "print(f\"Number of data points in the testing set: {len(testing_X)}\")\n",
    "print(f\"Number of data points in the validation set: {len(validation_X)}\")\n",
    "\n",
    "\n"
   ]
  },
  {
   "cell_type": "markdown",
   "metadata": {},
   "source": [
    "#### Model Selection\n",
    "\n",
    "We will use two different types of models, Neural Networks and Random Forests, to predict the type of attack. We will use the F1 score as the metric to evaluate the models.\n",
    "\n",
    "#### Random Forest Classifier\n",
    "\n",
    "We will start with the Random Forest Classifier, a collection of Decision Trees that will each output a prediction and the model will take the majority vote as the final prediction."
   ]
  },
  {
   "cell_type": "code",
   "execution_count": 11,
   "metadata": {},
   "outputs": [
    {
     "name": "stdout",
     "output_type": "stream",
     "text": [
      "Using device: cuda\n"
     ]
    }
   ],
   "source": [
    "import tqdm\n",
    "import torch.nn as nn\n",
    "from sklearn.ensemble import RandomForestClassifier\n",
    "from torch.utils.data import TensorDataset, DataLoader\n",
    "import torch\n",
    "\n",
    "\n",
    "device = 'cuda' if torch.cuda.is_available() else 'cpu'\n",
    "print(f'Using device: {device}')\n",
    "\n",
    "#must define model before it is loaded from pickle file\n",
    "class NNModel():\n",
    "    def __init__(self, input_dim, hidden_dim, learning_rate):\n",
    "        self.model = nn.Sequential(\n",
    "            nn.Linear(input_dim, hidden_dim // 2),\n",
    "            nn.ReLU(),\n",
    "            nn.Linear(hidden_dim // 2, hidden_dim),\n",
    "            nn.ReLU(),\n",
    "            nn.Linear(hidden_dim, hidden_dim // 2),\n",
    "            nn.ReLU(),\n",
    "            nn.Linear(hidden_dim // 2, 3)\n",
    "        )\n",
    "\n",
    "        self.model.to(device)\n",
    "    \n",
    "        self.criterion = nn.CrossEntropyLoss()\n",
    "        self.optimizer = torch.optim.Adam(self.model.parameters(), lr=learning_rate)\n",
    "\n",
    "    def evaluate(self, test_loader):\n",
    "        self.model.eval()\n",
    "        with torch.no_grad():\n",
    "            correct = 0\n",
    "            total = 0\n",
    "            for X_batch, y_batch in test_loader:\n",
    "                X_batch = X_batch.to(device)\n",
    "                y_batch = y_batch.to(device)\n",
    "                output = self.model(X_batch)\n",
    "                _, predicted = torch.max(output, dim=1)\n",
    "                total += y_batch.size(0)\n",
    "                correct += int((predicted == y_batch).sum())\n",
    "\n",
    "            accuracy = correct / total\n",
    "            return accuracy\n",
    "\n",
    "    def train(self, train_loader, num_epochs):\n",
    "        for epoch in range(num_epochs):\n",
    "            self.model.train()\n",
    "            running_loss = 0.0\n",
    "            for X_batch, y_batch in tqdm.tqdm(train_loader):\n",
    "                X_batch = X_batch.to(device)\n",
    "                y_batch = y_batch.to(device)\n",
    "                self.optimizer.zero_grad()\n",
    "                output = self.model(X_batch)\n",
    "                loss = self.criterion(output, y_batch)\n",
    "                running_loss += loss.item()\n",
    "                loss.backward()\n",
    "                self.optimizer.step()\n",
    "            print(f\"Epoch {epoch + 1}/{num_epochs}, Loss: {running_loss / len(train_loader)}\")\n",
    "\n",
    "\n",
    "        print(f\"Training Accuracy: {self.evaluate(train_loader)}\")\n",
    "\n",
    "\n",
    "    \n",
    "\n"
   ]
  },
  {
   "cell_type": "code",
   "execution_count": null,
   "metadata": {},
   "outputs": [],
   "source": [
    "retrain_rf = False\n",
    "retrain_nn = False\n",
    "\n",
    "\n",
    "rfc = None # Random Forest Classifier\n",
    "model = None # Neural Network\n",
    "\n",
    "if os.path.exists(\"session.pkl\"):\n",
    "    with open(\"session.pkl\", \"rb\") as f:\n",
    "        loaded = pickle.load(f)\n",
    "        rfc = loaded['rfc']\n",
    "        model = loaded['nn']\n",
    "else: \n",
    "    retrain_rf = True\n",
    "    retrain_nn = True\n",
    "    print(\"Training new models...\")\n"
   ]
  },
  {
   "cell_type": "code",
   "execution_count": 13,
   "metadata": {},
   "outputs": [
    {
     "name": "stdout",
     "output_type": "stream",
     "text": [
      "True\n",
      "Loading the trained model...\n"
     ]
    }
   ],
   "source": [
    "from sklearn.metrics import accuracy_score, precision_score, recall_score, f1_score\n",
    "import pickle\n",
    "\n",
    "print(retrain_rf or not os.path.exists(\"rfc_model.pkl\"))\n",
    "\n",
    "if retrain_rf:\n",
    "    print(\"Training a new model...\")\n",
    "    # Train a Random Forest classifier\n",
    "    rfc = RandomForestClassifier(random_state=0)\n",
    "    rfc.fit(X_train, y_train)\n",
    "else:\n",
    "    print(\"Loading the trained model...\")\n",
    "\n",
    "# Make predictions on the testing set\n",
    "y_pred = rfc.predict(testing_X)\n",
    "\n",
    "# Make predictions on the training set (to check for overfitting)\n",
    "train_y_pred = rfc.predict(X_train)\n"
   ]
  },
  {
   "cell_type": "code",
   "execution_count": 14,
   "metadata": {},
   "outputs": [
    {
     "name": "stdout",
     "output_type": "stream",
     "text": [
      "Training Accuracy: 0.9790814371150743\n",
      "\n",
      "Testing Accuracy: 0.9768924040565815\n",
      "Testing Precision: 0.9776204751243049\n",
      "Testing Recall: 0.9768924040565815\n",
      "Testing F1 Score: 0.9768279627928179\n"
     ]
    }
   ],
   "source": [
    "# Calculate the train accuracy of the classifier\n",
    "train_accuracy = accuracy_score(y_train, train_y_pred)\n",
    "print(f\"Training Accuracy: {train_accuracy}\\n\")\n",
    "\n",
    "# Calculate the test accuracy of the classifier\n",
    "accuracy = accuracy_score(testing_y, y_pred)\n",
    "print(f\"Testing Accuracy: {accuracy}\")\n",
    "print(f\"Testing Precision: {precision_score(testing_y, y_pred, average='weighted')}\")\n",
    "print(f\"Testing Recall: {recall_score(testing_y, y_pred, average='weighted')}\")\n",
    "print(f\"Testing F1 Score: {f1_score(testing_y, y_pred, average='weighted')}\")"
   ]
  },
  {
   "cell_type": "markdown",
   "metadata": {},
   "source": [
    "This accuracy is abnormally high, so we can try to improve the model by using a Neural Network.\n",
    "\n",
    "It is possible that the characteristics of these kind of attacks are very apparent in the data, so we could test the model on a diferent dataset of other kinds of attacks to see if the model works on those."
   ]
  },
  {
   "cell_type": "markdown",
   "metadata": {},
   "source": [
    "#### Neural Network\n",
    "To train the Neural Network, we will start by creating a TensorDataset object for both the train and test sets. We will use the DataLoader object to load the data in batches."
   ]
  },
  {
   "cell_type": "code",
   "execution_count": 15,
   "metadata": {},
   "outputs": [],
   "source": [
    "X_train_tensor = torch.tensor(X_train.values).float()\n",
    "y_train_tensor = torch.tensor(y_train.values).long()\n",
    "\n",
    "X_test_tensor = torch.tensor(testing_X.values).float()\n",
    "y_test_tensor = torch.tensor(testing_y.values).long()\n",
    "\n",
    "train_dataset = TensorDataset(X_train_tensor, y_train_tensor)\n",
    "test_dataset = TensorDataset(X_test_tensor, y_test_tensor)\n",
    "\n",
    "train_loader = DataLoader(train_dataset, batch_size=1024, shuffle=True)\n",
    "test_loader = DataLoader(test_dataset, batch_size=1024, shuffle=False)\n"
   ]
  },
  {
   "cell_type": "code",
   "execution_count": 16,
   "metadata": {},
   "outputs": [
    {
     "name": "stdout",
     "output_type": "stream",
     "text": [
      "Training a new model...\n"
     ]
    },
    {
     "name": "stderr",
     "output_type": "stream",
     "text": [
      "100%|██████████| 1425/1425 [00:13<00:00, 104.60it/s]\n"
     ]
    },
    {
     "name": "stdout",
     "output_type": "stream",
     "text": [
      "Epoch 1/30, Loss: 0.4381308354620348\n"
     ]
    },
    {
     "name": "stderr",
     "output_type": "stream",
     "text": [
      "100%|██████████| 1425/1425 [00:11<00:00, 126.55it/s]\n"
     ]
    },
    {
     "name": "stdout",
     "output_type": "stream",
     "text": [
      "Epoch 2/30, Loss: 0.37179211541226037\n"
     ]
    },
    {
     "name": "stderr",
     "output_type": "stream",
     "text": [
      "100%|██████████| 1425/1425 [00:11<00:00, 126.56it/s]\n"
     ]
    },
    {
     "name": "stdout",
     "output_type": "stream",
     "text": [
      "Epoch 3/30, Loss: 0.35858170216543633\n"
     ]
    },
    {
     "name": "stderr",
     "output_type": "stream",
     "text": [
      "100%|██████████| 1425/1425 [00:11<00:00, 126.68it/s]\n"
     ]
    },
    {
     "name": "stdout",
     "output_type": "stream",
     "text": [
      "Epoch 4/30, Loss: 0.3409205311850498\n"
     ]
    },
    {
     "name": "stderr",
     "output_type": "stream",
     "text": [
      "100%|██████████| 1425/1425 [00:11<00:00, 126.50it/s]\n"
     ]
    },
    {
     "name": "stdout",
     "output_type": "stream",
     "text": [
      "Epoch 5/30, Loss: 0.3202165551771197\n"
     ]
    },
    {
     "name": "stderr",
     "output_type": "stream",
     "text": [
      "100%|██████████| 1425/1425 [00:11<00:00, 126.39it/s]\n"
     ]
    },
    {
     "name": "stdout",
     "output_type": "stream",
     "text": [
      "Epoch 6/30, Loss: 0.2995548510237744\n"
     ]
    },
    {
     "name": "stderr",
     "output_type": "stream",
     "text": [
      "100%|██████████| 1425/1425 [00:11<00:00, 119.53it/s]\n"
     ]
    },
    {
     "name": "stdout",
     "output_type": "stream",
     "text": [
      "Epoch 7/30, Loss: 0.2804608070432094\n"
     ]
    },
    {
     "name": "stderr",
     "output_type": "stream",
     "text": [
      "100%|██████████| 1425/1425 [00:11<00:00, 118.79it/s]\n"
     ]
    },
    {
     "name": "stdout",
     "output_type": "stream",
     "text": [
      "Epoch 8/30, Loss: 0.2636586900970392\n"
     ]
    },
    {
     "name": "stderr",
     "output_type": "stream",
     "text": [
      "100%|██████████| 1425/1425 [00:11<00:00, 125.58it/s]\n"
     ]
    },
    {
     "name": "stdout",
     "output_type": "stream",
     "text": [
      "Epoch 9/30, Loss: 0.25380579510278867\n"
     ]
    },
    {
     "name": "stderr",
     "output_type": "stream",
     "text": [
      "100%|██████████| 1425/1425 [00:11<00:00, 126.68it/s]\n"
     ]
    },
    {
     "name": "stdout",
     "output_type": "stream",
     "text": [
      "Epoch 10/30, Loss: 0.24298867281068837\n"
     ]
    },
    {
     "name": "stderr",
     "output_type": "stream",
     "text": [
      "100%|██████████| 1425/1425 [00:11<00:00, 126.85it/s]\n"
     ]
    },
    {
     "name": "stdout",
     "output_type": "stream",
     "text": [
      "Epoch 11/30, Loss: 0.23738887289114166\n"
     ]
    },
    {
     "name": "stderr",
     "output_type": "stream",
     "text": [
      "100%|██████████| 1425/1425 [00:11<00:00, 126.55it/s]\n"
     ]
    },
    {
     "name": "stdout",
     "output_type": "stream",
     "text": [
      "Epoch 12/30, Loss: 0.23597876794505537\n"
     ]
    },
    {
     "name": "stderr",
     "output_type": "stream",
     "text": [
      "100%|██████████| 1425/1425 [00:11<00:00, 126.96it/s]\n"
     ]
    },
    {
     "name": "stdout",
     "output_type": "stream",
     "text": [
      "Epoch 13/30, Loss: 0.23456987665410628\n"
     ]
    },
    {
     "name": "stderr",
     "output_type": "stream",
     "text": [
      "100%|██████████| 1425/1425 [00:12<00:00, 116.94it/s]\n"
     ]
    },
    {
     "name": "stdout",
     "output_type": "stream",
     "text": [
      "Epoch 14/30, Loss: 0.22874125247461755\n"
     ]
    },
    {
     "name": "stderr",
     "output_type": "stream",
     "text": [
      "100%|██████████| 1425/1425 [00:13<00:00, 107.57it/s]\n"
     ]
    },
    {
     "name": "stdout",
     "output_type": "stream",
     "text": [
      "Epoch 15/30, Loss: 0.22581015023223142\n"
     ]
    },
    {
     "name": "stderr",
     "output_type": "stream",
     "text": [
      "100%|██████████| 1425/1425 [00:11<00:00, 126.15it/s]\n"
     ]
    },
    {
     "name": "stdout",
     "output_type": "stream",
     "text": [
      "Epoch 16/30, Loss: 0.22114594551554898\n"
     ]
    },
    {
     "name": "stderr",
     "output_type": "stream",
     "text": [
      "100%|██████████| 1425/1425 [00:11<00:00, 126.10it/s]\n"
     ]
    },
    {
     "name": "stdout",
     "output_type": "stream",
     "text": [
      "Epoch 17/30, Loss: 0.2196262812614441\n"
     ]
    },
    {
     "name": "stderr",
     "output_type": "stream",
     "text": [
      "100%|██████████| 1425/1425 [00:11<00:00, 121.27it/s]\n"
     ]
    },
    {
     "name": "stdout",
     "output_type": "stream",
     "text": [
      "Epoch 18/30, Loss: 0.21836505479979934\n"
     ]
    },
    {
     "name": "stderr",
     "output_type": "stream",
     "text": [
      "100%|██████████| 1425/1425 [00:11<00:00, 120.52it/s]\n"
     ]
    },
    {
     "name": "stdout",
     "output_type": "stream",
     "text": [
      "Epoch 19/30, Loss: 0.2124280253627844\n"
     ]
    },
    {
     "name": "stderr",
     "output_type": "stream",
     "text": [
      "100%|██████████| 1425/1425 [00:13<00:00, 108.96it/s]\n"
     ]
    },
    {
     "name": "stdout",
     "output_type": "stream",
     "text": [
      "Epoch 20/30, Loss: 0.2159217264254888\n"
     ]
    },
    {
     "name": "stderr",
     "output_type": "stream",
     "text": [
      "100%|██████████| 1425/1425 [00:11<00:00, 122.78it/s]\n"
     ]
    },
    {
     "name": "stdout",
     "output_type": "stream",
     "text": [
      "Epoch 21/30, Loss: 0.2174969793934571\n"
     ]
    },
    {
     "name": "stderr",
     "output_type": "stream",
     "text": [
      "100%|██████████| 1425/1425 [00:11<00:00, 128.65it/s]\n"
     ]
    },
    {
     "name": "stdout",
     "output_type": "stream",
     "text": [
      "Epoch 22/30, Loss: 0.21119239006126136\n"
     ]
    },
    {
     "name": "stderr",
     "output_type": "stream",
     "text": [
      "100%|██████████| 1425/1425 [00:11<00:00, 128.48it/s]\n"
     ]
    },
    {
     "name": "stdout",
     "output_type": "stream",
     "text": [
      "Epoch 23/30, Loss: 0.21114621469849035\n"
     ]
    },
    {
     "name": "stderr",
     "output_type": "stream",
     "text": [
      "100%|██████████| 1425/1425 [00:11<00:00, 128.87it/s]\n"
     ]
    },
    {
     "name": "stdout",
     "output_type": "stream",
     "text": [
      "Epoch 24/30, Loss: 0.21170933374187403\n"
     ]
    },
    {
     "name": "stderr",
     "output_type": "stream",
     "text": [
      "100%|██████████| 1425/1425 [00:11<00:00, 125.05it/s]\n"
     ]
    },
    {
     "name": "stdout",
     "output_type": "stream",
     "text": [
      "Epoch 25/30, Loss: 0.21124885531893947\n"
     ]
    },
    {
     "name": "stderr",
     "output_type": "stream",
     "text": [
      "100%|██████████| 1425/1425 [00:11<00:00, 122.73it/s]\n"
     ]
    },
    {
     "name": "stdout",
     "output_type": "stream",
     "text": [
      "Epoch 26/30, Loss: 0.21709178611897587\n"
     ]
    },
    {
     "name": "stderr",
     "output_type": "stream",
     "text": [
      "100%|██████████| 1425/1425 [00:11<00:00, 123.10it/s]\n"
     ]
    },
    {
     "name": "stdout",
     "output_type": "stream",
     "text": [
      "Epoch 27/30, Loss: 0.2123305689765696\n"
     ]
    },
    {
     "name": "stderr",
     "output_type": "stream",
     "text": [
      "100%|██████████| 1425/1425 [00:11<00:00, 124.00it/s]\n"
     ]
    },
    {
     "name": "stdout",
     "output_type": "stream",
     "text": [
      "Epoch 28/30, Loss: 0.21435814680760368\n"
     ]
    },
    {
     "name": "stderr",
     "output_type": "stream",
     "text": [
      "100%|██████████| 1425/1425 [00:11<00:00, 125.50it/s]\n"
     ]
    },
    {
     "name": "stdout",
     "output_type": "stream",
     "text": [
      "Epoch 29/30, Loss: 0.21238204493857266\n"
     ]
    },
    {
     "name": "stderr",
     "output_type": "stream",
     "text": [
      "100%|██████████| 1425/1425 [00:11<00:00, 125.62it/s]\n"
     ]
    },
    {
     "name": "stdout",
     "output_type": "stream",
     "text": [
      "Epoch 30/30, Loss: 0.21224242994659825\n",
      "Training Accuracy: 0.9253819346602576\n",
      "Testing Accuracy: 0.9249784720355856\n"
     ]
    }
   ],
   "source": [
    "\n",
    "\n",
    "if retrain_nn:\n",
    "    print(\"Training a new model...\")\n",
    "    model = NNModel(input_dim=X_train_tensor.shape[1], hidden_dim=128, learning_rate=0.001)\n",
    "    model.train(train_loader, num_epochs=30)\n",
    "else:\n",
    "    print(\"Using the trained model...\")\n",
    "\n",
    "print(f\"Testing Accuracy: {model.evaluate(test_loader)}\")"
   ]
  },
  {
   "cell_type": "markdown",
   "metadata": {},
   "source": [
    "10 Epochs:\n",
    "Training Accuracy: 0.9071488953838749\n",
    "Testing Accuracy: 0.9067249521448434\n",
    "\n",
    "20 Epochs:\n",
    "Training Accuracy: 0.9227485172029144\n",
    "Testing Accuracy: 0.9224664191179294\n",
    "\n",
    "\n",
    "30 Epochs:\n",
    "\n",
    "\n",
    "#### Save the Models"
   ]
  },
  {
   "cell_type": "code",
   "execution_count": 17,
   "metadata": {},
   "outputs": [],
   "source": [
    "session = {\n",
    "    'rfc': rfc,\n",
    "    'nn': model\n",
    "}\n",
    "\n",
    "# Save the session to a file\n",
    "with open('session.pkl', 'wb') as f:\n",
    "    pickle.dump(session, f)\n",
    "\n"
   ]
  },
  {
   "cell_type": "markdown",
   "metadata": {},
   "source": [
    "#### Validation\n",
    "Now we can test both models on the validation set to make sure that they can be generalized to a new set of data"
   ]
  },
  {
   "cell_type": "code",
   "execution_count": 18,
   "metadata": {},
   "outputs": [
    {
     "name": "stdout",
     "output_type": "stream",
     "text": [
      "Validation Accuracy (RFC): 0.976974550241334\n",
      "Validation Accuracy (NN): 0.9255430013163668\n"
     ]
    }
   ],
   "source": [
    "#test both models on the validation set\n",
    "validation_X_tensor = torch.tensor(validation_X.values).float()\n",
    "validation_y_tensor = torch.tensor(validation_y.values).long()\n",
    "validation_dataset = TensorDataset(validation_X_tensor, validation_y_tensor)\n",
    "validation_loader = DataLoader(validation_dataset, batch_size=1024, shuffle=False)\n",
    "print(f\"Validation Accuracy (RFC): {rfc.score(validation_X, validation_y)}\")\n",
    "print(f\"Validation Accuracy (NN): {model.evaluate(validation_loader)}\")\n"
   ]
  }
 ],
 "metadata": {
  "kernelspec": {
   "display_name": "pytorch-gpu2",
   "language": "python",
   "name": "python3"
  },
  "language_info": {
   "codemirror_mode": {
    "name": "ipython",
    "version": 3
   },
   "file_extension": ".py",
   "mimetype": "text/x-python",
   "name": "python",
   "nbconvert_exporter": "python",
   "pygments_lexer": "ipython3",
   "version": "3.10.14"
  }
 },
 "nbformat": 4,
 "nbformat_minor": 2
}
